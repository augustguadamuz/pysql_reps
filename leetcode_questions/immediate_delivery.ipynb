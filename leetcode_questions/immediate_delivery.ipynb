{
 "cells": [
  {
   "cell_type": "markdown",
   "metadata": {},
   "source": [
    "# Leetcode Immediate Delivery II"
   ]
  },
  {
   "cell_type": "markdown",
   "metadata": {},
   "source": [
    "## Question/Challenge:\n",
    "Table: delivery\n",
    "| Column Name                 | Type    |\n",
    "|-----------------------------|---------|\n",
    "| delivery_id                 | int     |\n",
    "| customer_id                 | int     |\n",
    "| order_date                  | date    |\n",
    "| customer_pref_delivery_date | date    |\n",
    "\n",
    "\n",
    "delivery_id is the column of unique values of this table.\n",
    "The table holds information about food delivery to customers that make orders at some date and specify a preferred delivery date (on the same order date or after it).\n",
    "\n",
    "If the customer's preferred delivery date is the same as the order date, then the order is called immediate; otherwise, it is called scheduled.\n",
    "\n",
    "The first order of a customer is the order with the earliest order date that the customer made. It is guaranteed that a customer has precisely one first order.\n",
    "\n",
    "Write a solution to find the percentage of immediate orders in the first orders of all customers, rounded to 2 decimal places."
   ]
  },
  {
   "cell_type": "code",
   "execution_count": 4,
   "metadata": {},
   "outputs": [
    {
     "name": "stdout",
     "output_type": "stream",
     "text": [
      "Analytics Packages Imported\n"
     ]
    }
   ],
   "source": [
    "# Import packages needed for analysis work\n",
    "\n",
    "import pandas as pd\n",
    "import seaborn as sns\n",
    "import numpy as np\n",
    "import matplotlib.pyplot as plt\n",
    "import scipy\n",
    "import statsmodels.api as sm \n",
    "import datetime\n",
    "import os\n",
    "\n",
    "print('Analytics Packages Imported')"
   ]
  },
  {
   "cell_type": "markdown",
   "metadata": {},
   "source": [
    "### Build a DataFrame with the data from the question"
   ]
  },
  {
   "cell_type": "code",
   "execution_count": 6,
   "metadata": {},
   "outputs": [
    {
     "name": "stdout",
     "output_type": "stream",
     "text": [
      "   delivery_id  customer_id  order_date customer_pref_delivery_date\n",
      "0            1            1  2019-08-01                  2019-08-02\n",
      "1            2            2  2019-08-02                  2019-08-02\n",
      "2            3            1  2019-08-11                  2019-08-12\n",
      "3            4            3  2019-08-24                  2019-08-24\n",
      "4            5            3  2019-08-21                  2019-08-22\n",
      "5            6            2  2019-08-11                  2019-08-13\n",
      "6            7            4  2019-08-09                  2019-08-09\n"
     ]
    }
   ],
   "source": [
    "# Create the data as a list of tuples\n",
    "\n",
    "data = [\n",
    "    (1,1,'2019-08-01','2019-08-02'),\n",
    "    (2,2,'2019-08-02','2019-08-02'),\n",
    "    (3,1,'2019-08-11','2019-08-12'),\n",
    "    (4,3,'2019-08-24','2019-08-24'),\n",
    "    (5,3,'2019-08-21','2019-08-22'),\n",
    "    (6,2,'2019-08-11','2019-08-13'),\n",
    "    (7,4,'2019-08-09','2019-08-09')\t\n",
    "]\n",
    "\n",
    "# Define the columns headers\n",
    "\n",
    "data_columns = ['delivery_id', 'customer_id', 'order_date', 'customer_pref_delivery_date']\n",
    "\n",
    "# Create the dataframe with the column headers\n",
    "\n",
    "delivery = pd.DataFrame(data, columns=data_columns)\n",
    "print(delivery)"
   ]
  },
  {
   "cell_type": "code",
   "execution_count": 7,
   "metadata": {},
   "outputs": [
    {
     "name": "stdout",
     "output_type": "stream",
     "text": [
      "   customer_id  order_date\n",
      "0            1  2019-08-01\n",
      "1            2  2019-08-02\n",
      "2            3  2019-08-21\n",
      "3            4  2019-08-09\n"
     ]
    }
   ],
   "source": [
    "# Group by customer_id and find the earliest order for each customer\n",
    "\n",
    "first_orders = delivery.groupby('customer_id')['order_date'].min().reset_index()\n",
    "\n",
    "print(first_orders)"
   ]
  },
  {
   "cell_type": "code",
   "execution_count": 8,
   "metadata": {},
   "outputs": [
    {
     "name": "stdout",
     "output_type": "stream",
     "text": [
      "   customer_id  order_date  is_immediate\n",
      "0            1  2019-08-01         False\n",
      "1            2  2019-08-02          True\n",
      "2            3  2019-08-21         False\n",
      "3            4  2019-08-09          True\n"
     ]
    }
   ],
   "source": [
    "# Check if the 'order_date' is the same as 'customer_pref_delivery_date' for immediate orders\n",
    "\n",
    "first_orders['is_immediate'] = first_orders.apply(\n",
    "    lambda row: row['order_date'] == delivery[\n",
    "        (delivery['customer_id'] == row['customer_id']) &\n",
    "        (delivery['order_date'] == row['order_date'])\n",
    "    ]['customer_pref_delivery_date'].values[0],\n",
    "    axis=1\n",
    ")\n",
    "\n",
    "print(first_orders)"
   ]
  },
  {
   "cell_type": "code",
   "execution_count": 11,
   "metadata": {},
   "outputs": [
    {
     "name": "stdout",
     "output_type": "stream",
     "text": [
      "4\n",
      "2\n"
     ]
    }
   ],
   "source": [
    "# Calculate the total number of first orders and the number of immediate frist offers\n",
    "\n",
    "total_first_orders = len(first_orders)\n",
    "immediate_first_orders = first_orders['is_immediate'].sum()\n",
    "\n",
    "print(total_first_orders)\n",
    "print(immediate_first_orders)"
   ]
  },
  {
   "cell_type": "code",
   "execution_count": 13,
   "metadata": {},
   "outputs": [
    {
     "name": "stdout",
     "output_type": "stream",
     "text": [
      "50.0\n"
     ]
    }
   ],
   "source": [
    "# Calculate the percentage of immedate first orders\n",
    "\n",
    "percentage_immediate = round((immediate_first_orders/total_first_orders) * 100,2)\n",
    "print(percentage_immediate)"
   ]
  }
 ],
 "metadata": {
  "kernelspec": {
   "display_name": "base",
   "language": "python",
   "name": "python3"
  },
  "language_info": {
   "codemirror_mode": {
    "name": "ipython",
    "version": 3
   },
   "file_extension": ".py",
   "mimetype": "text/x-python",
   "name": "python",
   "nbconvert_exporter": "python",
   "pygments_lexer": "ipython3",
   "version": "3.11.5"
  }
 },
 "nbformat": 4,
 "nbformat_minor": 2
}
